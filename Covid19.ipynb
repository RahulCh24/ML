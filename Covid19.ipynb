{
 "cells": [
  {
   "cell_type": "code",
   "execution_count": 2,
   "metadata": {},
   "outputs": [],
   "source": [
    "import os\n",
    "import shutil"
   ]
  },
  {
   "cell_type": "code",
   "execution_count": 3,
   "metadata": {},
   "outputs": [],
   "source": [
    "COVID_IMAGES_PATH = \"COVID-19\""
   ]
  },
  {
   "cell_type": "code",
   "execution_count": 5,
   "metadata": {},
   "outputs": [
    {
     "name": "stdout",
     "output_type": "stream",
     "text": [
      "CreatedDatasets/Covid\n"
     ]
    }
   ],
   "source": [
    "TARGER_DIR = \"Datasets/Covid\"\n",
    "if not os.path.exists(TARGER_DIR):\n",
    "    os.mkdir(TARGER_DIR)\n",
    "    print(\"Created\"+TARGER_DIR)"
   ]
  },
  {
   "cell_type": "code",
   "execution_count": 6,
   "metadata": {},
   "outputs": [],
   "source": [
    "COVID_IMAGES = \"COVID-19\"\n",
    "TARGER_DIR = \"Datasets/Covid\"\n",
    "images_names = os.listdir(COVID_IMAGES)"
   ]
  },
  {
   "cell_type": "code",
   "execution_count": 8,
   "metadata": {},
   "outputs": [],
   "source": [
    "for i in range(len(images_names)):\n",
    "    image_name = images_names[i]\n",
    "    image_path = os.path.join(COVID_IMAGES,image_name)\n",
    "    target_path = os.path.join(TARGER_DIR,image_name)\n",
    "    shutil.copy2(image_path,target_path)"
   ]
  },
  {
   "cell_type": "code",
   "execution_count": 9,
   "metadata": {},
   "outputs": [
    {
     "name": "stdout",
     "output_type": "stream",
     "text": [
      "CreatedDatasets/Normal\n"
     ]
    }
   ],
   "source": [
    "TARGER_DIR = \"Datasets/Normal\"\n",
    "if not os.path.exists(TARGER_DIR):\n",
    "    os.mkdir(TARGER_DIR)\n",
    "    print(\"Created\"+TARGER_DIR)"
   ]
  },
  {
   "cell_type": "code",
   "execution_count": 11,
   "metadata": {},
   "outputs": [],
   "source": [
    "NORMAL_IMAGES = \"NORMAL\"\n",
    "TARGER_DIR = \"Datasets/Normal\"\n",
    "images_names = os.listdir(NORMAL_IMAGES)"
   ]
  },
  {
   "cell_type": "code",
   "execution_count": 14,
   "metadata": {},
   "outputs": [],
   "source": [
    "for i in range(219):\n",
    "    image_name = images_names[i]\n",
    "    image_path = os.path.join(NORMAL_IMAGES,image_name)\n",
    "    target_path = os.path.join(TARGER_DIR,image_name)\n",
    "    shutil.copy2(image_path,target_path)"
   ]
  },
  {
   "cell_type": "code",
   "execution_count": 21,
   "metadata": {},
   "outputs": [],
   "source": [
    "train_split = (219//100)*80"
   ]
  },
  {
   "cell_type": "code",
   "execution_count": 22,
   "metadata": {},
   "outputs": [],
   "source": [
    "test_split = 219-train_split"
   ]
  },
  {
   "cell_type": "code",
   "execution_count": 23,
   "metadata": {},
   "outputs": [
    {
     "data": {
      "text/plain": [
       "(160, 59)"
      ]
     },
     "execution_count": 23,
     "metadata": {},
     "output_type": "execute_result"
    }
   ],
   "source": [
    "train_split,test_split"
   ]
  },
  {
   "cell_type": "code",
   "execution_count": 24,
   "metadata": {},
   "outputs": [],
   "source": [
    "COVID_IMAGES  = \"Datasets/Covid\"\n",
    "NORMAL_IMAGES = \"Datasets/Normal\"\n",
    "TARGER_DIR_COVID = \"Data/Train/Covid\"\n",
    "TARGER_DIR_NORMAL = \"Data/Train/Normal\"\n",
    "Covid_Image_names = os.listdir(COVID_IMAGES)\n",
    "Normal_Image_names = os.listdir(NORMAL_IMAGES)\n",
    "for i in range(train_split):\n",
    "    Covid_image = Covid_Image_names[i]\n",
    "    Normal_image =Normal_Image_names[i]\n",
    "    Covid_image_path = os.path.join(COVID_IMAGES,Covid_image)\n",
    "    Normal_image_path = os.path.join(NORMAL_IMAGES,Normal_image)\n",
    "    Covid_target_path = os.path.join(TARGER_DIR_COVID,Covid_image)\n",
    "    Normal_target_path = os.path.join(TARGER_DIR_NORMAL,Normal_image)\n",
    "    shutil.copy2(Covid_image_path,Covid_target_path)\n",
    "    shutil.copy2(Normal_image_path,Normal_target_path)\n",
    "    "
   ]
  },
  {
   "cell_type": "code",
   "execution_count": 27,
   "metadata": {},
   "outputs": [],
   "source": [
    "COVID_IMAGES  = \"Datasets/Covid\"\n",
    "NORMAL_IMAGES = \"Datasets/Normal\"\n",
    "TARGER_DIR_COVID = \"Data/Test/Covid\"\n",
    "TARGER_DIR_NORMAL = \"Data/Test/Normal\"\n",
    "Covid_Image_names = os.listdir(COVID_IMAGES)\n",
    "Normal_Image_names = os.listdir(NORMAL_IMAGES)\n",
    "for i in range(train_split,219):\n",
    "    Covid_image = Covid_Image_names[i]\n",
    "    Normal_image =Normal_Image_names[i]\n",
    "    Covid_image_path = os.path.join(COVID_IMAGES,Covid_image)\n",
    "    Normal_image_path = os.path.join(NORMAL_IMAGES,Normal_image)\n",
    "    Covid_target_path = os.path.join(TARGER_DIR_COVID,Covid_image)\n",
    "    Normal_target_path = os.path.join(TARGER_DIR_NORMAL,Normal_image)\n",
    "    shutil.copy2(Covid_image_path,Covid_target_path)\n",
    "    shutil.copy2(Normal_image_path,Normal_target_path)"
   ]
  },
  {
   "cell_type": "code",
   "execution_count": 1,
   "metadata": {},
   "outputs": [],
   "source": [
    "TRAIN_PATH = \"Data/Train\"\n",
    "TEST_PATH = \"Data/Test\""
   ]
  },
  {
   "cell_type": "code",
   "execution_count": 2,
   "metadata": {},
   "outputs": [],
   "source": [
    "import numpy as np\n",
    "import matplotlib.pyplot as plt\n",
    "import keras\n",
    "from keras.layers import *\n",
    "from keras.models import *\n",
    "from keras.preprocessing import image"
   ]
  },
  {
   "cell_type": "code",
   "execution_count": 11,
   "metadata": {},
   "outputs": [],
   "source": [
    "model = Sequential()\n",
    "\n",
    "model.add(Conv2D(filters=32, kernel_size=(3,3), activation='relu', padding='same',input_shape=(224,224,3)))\n",
    "model.add(Conv2D(filters=64, kernel_size=(3,3), activation='relu'))\n",
    "model.add(MaxPooling2D(pool_size=(2,2)))\n",
    "dropOutLayer = Dropout(0.25)\n",
    "model.add(dropOutLayer)\n",
    "\n",
    "model.add(Conv2D(filters=64, kernel_size=(3,3), activation='relu'))\n",
    "model.add(MaxPooling2D(pool_size=(2,2)))\n",
    "dropOutLayer = Dropout(0.25)\n",
    "model.add(dropOutLayer)\n",
    "\n",
    "model.add(Conv2D(filters=128, kernel_size=(3,3), activation='relu'))\n",
    "model.add(MaxPooling2D(pool_size=(2,2)))\n",
    "dropOutLayer = Dropout(0.25)\n",
    "model.add(dropOutLayer)\n",
    "\n",
    "model.add(Flatten())\n",
    "model.add(Dense(64, activation='relu'))\n",
    "dropOutLayer = Dropout(0.5)\n",
    "model.add(dropOutLayer)\n",
    "\n",
    "model.add(Dense(128, activation='relu'))\n",
    "dropOutLayer = Dropout(0.5)\n",
    "model.add(dropOutLayer)\n",
    "\n",
    "model.add(Dense(1, activation='sigmoid'))\n",
    "model.compile(optimizer='adam', loss=keras.losses.binary_crossentropy, metrics=['accuracy'])"
   ]
  },
  {
   "cell_type": "code",
   "execution_count": 4,
   "metadata": {},
   "outputs": [
    {
     "name": "stdout",
     "output_type": "stream",
     "text": [
      "Model: \"sequential\"\n",
      "_________________________________________________________________\n",
      "Layer (type)                 Output Shape              Param #   \n",
      "=================================================================\n",
      "conv2d (Conv2D)              (None, 224, 224, 32)      896       \n",
      "_________________________________________________________________\n",
      "conv2d_1 (Conv2D)            (None, 222, 222, 64)      18496     \n",
      "_________________________________________________________________\n",
      "max_pooling2d (MaxPooling2D) (None, 111, 111, 64)      0         \n",
      "_________________________________________________________________\n",
      "dropout (Dropout)            (None, 111, 111, 64)      0         \n",
      "_________________________________________________________________\n",
      "conv2d_2 (Conv2D)            (None, 109, 109, 64)      36928     \n",
      "_________________________________________________________________\n",
      "max_pooling2d_1 (MaxPooling2 (None, 54, 54, 64)        0         \n",
      "_________________________________________________________________\n",
      "dropout_1 (Dropout)          (None, 54, 54, 64)        0         \n",
      "_________________________________________________________________\n",
      "conv2d_3 (Conv2D)            (None, 52, 52, 128)       73856     \n",
      "_________________________________________________________________\n",
      "max_pooling2d_2 (MaxPooling2 (None, 26, 26, 128)       0         \n",
      "_________________________________________________________________\n",
      "dropout_2 (Dropout)          (None, 26, 26, 128)       0         \n",
      "_________________________________________________________________\n",
      "flatten (Flatten)            (None, 86528)             0         \n",
      "_________________________________________________________________\n",
      "dense (Dense)                (None, 64)                5537856   \n",
      "_________________________________________________________________\n",
      "dropout_3 (Dropout)          (None, 64)                0         \n",
      "_________________________________________________________________\n",
      "dense_1 (Dense)              (None, 128)               8320      \n",
      "_________________________________________________________________\n",
      "dropout_4 (Dropout)          (None, 128)               0         \n",
      "_________________________________________________________________\n",
      "dense_2 (Dense)              (None, 1)                 129       \n",
      "=================================================================\n",
      "Total params: 5,676,481\n",
      "Trainable params: 5,676,481\n",
      "Non-trainable params: 0\n",
      "_________________________________________________________________\n"
     ]
    }
   ],
   "source": [
    "model.summary()"
   ]
  },
  {
   "cell_type": "code",
   "execution_count": 5,
   "metadata": {},
   "outputs": [],
   "source": [
    "train_datagen = image.ImageDataGenerator(\n",
    "    rescale = 1./255,\n",
    "    shear_range = 0.2,\n",
    "    zoom_range = 0.2,\n",
    "    horizontal_flip = True\n",
    ")\n",
    "test_dataset = image.ImageDataGenerator(rescale=1./255);"
   ]
  },
  {
   "cell_type": "code",
   "execution_count": 6,
   "metadata": {},
   "outputs": [
    {
     "name": "stdout",
     "output_type": "stream",
     "text": [
      "Found 320 images belonging to 2 classes.\n"
     ]
    }
   ],
   "source": [
    "train_data = train_datagen.flow_from_directory(\n",
    "    TRAIN_PATH,\n",
    "    target_size = (224,224),\n",
    "    batch_size = 32,\n",
    "    class_mode = \"binary\"\n",
    ")"
   ]
  },
  {
   "cell_type": "code",
   "execution_count": 7,
   "metadata": {},
   "outputs": [
    {
     "data": {
      "text/plain": [
       "{'Covid': 0, 'Normal': 1}"
      ]
     },
     "execution_count": 7,
     "metadata": {},
     "output_type": "execute_result"
    }
   ],
   "source": [
    "train_data.class_indices"
   ]
  },
  {
   "cell_type": "code",
   "execution_count": 8,
   "metadata": {},
   "outputs": [
    {
     "name": "stdout",
     "output_type": "stream",
     "text": [
      "Found 118 images belonging to 2 classes.\n"
     ]
    }
   ],
   "source": [
    "test_data = train_datagen.flow_from_directory(\n",
    "    TEST_PATH,\n",
    "    target_size = (224,224),\n",
    "    batch_size = 32,\n",
    "    class_mode = \"binary\"\n",
    ")"
   ]
  },
  {
   "cell_type": "code",
   "execution_count": 9,
   "metadata": {},
   "outputs": [
    {
     "data": {
      "text/plain": [
       "{'Covid': 0, 'Normal': 1}"
      ]
     },
     "execution_count": 9,
     "metadata": {},
     "output_type": "execute_result"
    }
   ],
   "source": [
    "test_data.class_indices"
   ]
  },
  {
   "cell_type": "code",
   "execution_count": 12,
   "metadata": {},
   "outputs": [
    {
     "name": "stdout",
     "output_type": "stream",
     "text": [
      "Epoch 1/20\n",
      "8/8 [==============================] - 28s 3s/step - loss: 1.1331 - accuracy: 0.4844 - val_loss: 0.6936 - val_accuracy: 0.4531\n",
      "Epoch 2/20\n",
      "8/8 [==============================] - 33s 4s/step - loss: 0.6918 - accuracy: 0.4844 - val_loss: 0.6917 - val_accuracy: 0.4844\n",
      "Epoch 3/20\n",
      "8/8 [==============================] - 32s 4s/step - loss: 0.6906 - accuracy: 0.5312 - val_loss: 0.6832 - val_accuracy: 0.8125\n",
      "Epoch 4/20\n",
      "8/8 [==============================] - 32s 4s/step - loss: 0.6729 - accuracy: 0.5898 - val_loss: 0.6549 - val_accuracy: 0.7500\n",
      "Epoch 5/20\n",
      "8/8 [==============================] - 32s 4s/step - loss: 0.6124 - accuracy: 0.6680 - val_loss: 0.5772 - val_accuracy: 0.7344\n",
      "Epoch 6/20\n",
      "8/8 [==============================] - 31s 4s/step - loss: 0.5832 - accuracy: 0.6797 - val_loss: 0.4845 - val_accuracy: 0.8281\n",
      "Epoch 7/20\n",
      "8/8 [==============================] - 31s 4s/step - loss: 0.4847 - accuracy: 0.7891 - val_loss: 0.3336 - val_accuracy: 0.8906\n",
      "Epoch 8/20\n",
      "8/8 [==============================] - 31s 4s/step - loss: 0.3229 - accuracy: 0.8672 - val_loss: 0.2605 - val_accuracy: 0.9062\n",
      "Epoch 9/20\n",
      "8/8 [==============================] - 31s 4s/step - loss: 0.3265 - accuracy: 0.8633 - val_loss: 0.3286 - val_accuracy: 0.8438\n",
      "Epoch 10/20\n",
      "8/8 [==============================] - 31s 4s/step - loss: 0.2915 - accuracy: 0.8789 - val_loss: 0.1653 - val_accuracy: 0.9688\n",
      "Epoch 11/20\n",
      "8/8 [==============================] - 31s 4s/step - loss: 0.2993 - accuracy: 0.9062 - val_loss: 0.1488 - val_accuracy: 0.9844\n",
      "Epoch 12/20\n",
      "8/8 [==============================] - 32s 4s/step - loss: 0.2381 - accuracy: 0.9297 - val_loss: 0.1756 - val_accuracy: 0.9375\n",
      "Epoch 13/20\n",
      "8/8 [==============================] - 30s 4s/step - loss: 0.2533 - accuracy: 0.9102 - val_loss: 0.1313 - val_accuracy: 0.9531\n",
      "Epoch 14/20\n",
      "8/8 [==============================] - 31s 4s/step - loss: 0.2170 - accuracy: 0.8984 - val_loss: 0.3096 - val_accuracy: 0.8125\n",
      "Epoch 15/20\n",
      "8/8 [==============================] - 31s 4s/step - loss: 0.2309 - accuracy: 0.9141 - val_loss: 0.1161 - val_accuracy: 0.9688\n",
      "Epoch 16/20\n",
      "8/8 [==============================] - 31s 4s/step - loss: 0.2413 - accuracy: 0.9453 - val_loss: 0.1935 - val_accuracy: 0.9219\n",
      "Epoch 17/20\n",
      "8/8 [==============================] - 31s 4s/step - loss: 0.1924 - accuracy: 0.9375 - val_loss: 0.1017 - val_accuracy: 0.9688\n",
      "Epoch 18/20\n",
      "8/8 [==============================] - 30s 4s/step - loss: 0.1995 - accuracy: 0.9336 - val_loss: 0.1207 - val_accuracy: 0.9688\n",
      "Epoch 19/20\n",
      "8/8 [==============================] - 30s 4s/step - loss: 0.2387 - accuracy: 0.9258 - val_loss: 0.3006 - val_accuracy: 0.8750\n",
      "Epoch 20/20\n",
      "8/8 [==============================] - 31s 4s/step - loss: 0.1377 - accuracy: 0.9570 - val_loss: 0.0992 - val_accuracy: 0.9531\n"
     ]
    }
   ],
   "source": [
    "Covid = model.fit_generator(\n",
    "    train_data,\n",
    "    validation_data = test_data,\n",
    "    epochs = 20,\n",
    "    steps_per_epoch = 8,\n",
    "    validation_steps = 2\n",
    ")"
   ]
  },
  {
   "cell_type": "code",
   "execution_count": null,
   "metadata": {},
   "outputs": [],
   "source": []
  },
  {
   "cell_type": "code",
   "execution_count": null,
   "metadata": {},
   "outputs": [],
   "source": []
  },
  {
   "cell_type": "code",
   "execution_count": null,
   "metadata": {},
   "outputs": [],
   "source": []
  }
 ],
 "metadata": {
  "kernelspec": {
   "display_name": "Python 3",
   "language": "python",
   "name": "python3"
  },
  "language_info": {
   "codemirror_mode": {
    "name": "ipython",
    "version": 3
   },
   "file_extension": ".py",
   "mimetype": "text/x-python",
   "name": "python",
   "nbconvert_exporter": "python",
   "pygments_lexer": "ipython3",
   "version": "3.8.3"
  }
 },
 "nbformat": 4,
 "nbformat_minor": 4
}
