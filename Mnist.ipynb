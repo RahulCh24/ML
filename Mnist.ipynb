{
  "nbformat": 4,
  "nbformat_minor": 0,
  "metadata": {
    "colab": {
      "name": "Mnist.ipynb",
      "provenance": [],
      "authorship_tag": "ABX9TyPRNc0dOVrTPRt0/J5aPlHw",
      "include_colab_link": true
    },
    "kernelspec": {
      "name": "python3",
      "display_name": "Python 3"
    }
  },
  "cells": [
    {
      "cell_type": "markdown",
      "metadata": {
        "id": "view-in-github",
        "colab_type": "text"
      },
      "source": [
        "<a href=\"https://colab.research.google.com/github/Avinashrao10/DeepLearning/blob/master/Mnist.ipynb\" target=\"_parent\"><img src=\"https://colab.research.google.com/assets/colab-badge.svg\" alt=\"Open In Colab\"/></a>"
      ]
    },
    {
      "cell_type": "code",
      "metadata": {
        "id": "MAltuACq_moL"
      },
      "source": [
        "from keras.datasets import mnist\n",
        "import matplotlib.pyplot as plt "
      ],
      "execution_count": null,
      "outputs": []
    },
    {
      "cell_type": "code",
      "metadata": {
        "id": "9rTFY7mX_0yt"
      },
      "source": [
        "(X_train,Y_train),(X_test,Y_test) = mnist.load_data()"
      ],
      "execution_count": null,
      "outputs": []
    },
    {
      "cell_type": "code",
      "metadata": {
        "id": "kK5Shsnl_-fX",
        "colab": {
          "base_uri": "https://localhost:8080/",
          "height": 35
        },
        "outputId": "6b8211a6-9449-4f51-b9b6-fa8510b2e171"
      },
      "source": [
        "X_train.shape,Y_train.shape,X_test.shape,Y_test.shape"
      ],
      "execution_count": null,
      "outputs": [
        {
          "output_type": "execute_result",
          "data": {
            "text/plain": [
              "((60000, 28, 28), (60000,), (10000, 28, 28), (10000,))"
            ]
          },
          "metadata": {
            "tags": []
          },
          "execution_count": 62
        }
      ]
    },
    {
      "cell_type": "code",
      "metadata": {
        "id": "deWercgiAHZJ"
      },
      "source": [
        "image = X_train[0]"
      ],
      "execution_count": null,
      "outputs": []
    },
    {
      "cell_type": "code",
      "metadata": {
        "id": "q3I9q5ufAZx0",
        "colab": {
          "base_uri": "https://localhost:8080/",
          "height": 283
        },
        "outputId": "94957958-5f35-439c-9b4a-1390f2993943"
      },
      "source": [
        "plt.imshow(image)"
      ],
      "execution_count": null,
      "outputs": [
        {
          "output_type": "execute_result",
          "data": {
            "text/plain": [
              "<matplotlib.image.AxesImage at 0x7eff10b79898>"
            ]
          },
          "metadata": {
            "tags": []
          },
          "execution_count": 11
        },
        {
          "output_type": "display_data",
          "data": {
            "image/png": "[encoded data removed]",
            "text/plain": [
              "<Figure size 432x288 with 1 Axes>"
            ]
          },
          "metadata": {
            "tags": [],
            "needs_background": "light"
          }
        }
      ]
    },
    {
      "cell_type": "markdown",
      "metadata": {
        "id": "XIpC9p3oUB0M"
      },
      "source": [
        "MNIST"
      ]
    },
    {
      "cell_type": "code",
      "metadata": {
        "id": "d_74DFFOJuD5"
      },
      "source": [
        "from keras.datasets import mnist\n",
        "import matplotlib.pyplot as plt \n",
        "from keras.models import Sequential\n",
        "from keras.layers import Conv2D, MaxPooling2D, Flatten, Dense, Dropout\n",
        "from keras.utils import to_categorical\n",
        "import numpy as np\n",
        "(X_train,Y_train),(X_test,Y_test) = mnist.load_data()\n",
        "num_classes = 10\n",
        "train_labels_cat = to_categorical(Y_train,num_classes)\n",
        "test_labels_cat = to_categorical(Y_test,num_classes)\n",
        "X_train = np.reshape(X_train,(60000,28,28,1))\n",
        "X_test = np.reshape(X_test,(10000,28,28,1))\n",
        "model = Sequential()\n",
        "conv1 = Conv2D(filters=32, kernel_size=(3,3), activation='relu', padding='same',input_shape=(28,28,1))\n",
        "model.add(conv1)\n",
        "pool1 = MaxPooling2D(pool_size=(2,2))\n",
        "model.add(pool1)\n",
        "dropOutLayer = Dropout(0.2)\n",
        "model.add(dropOutLayer)\n",
        "conv2 = Conv2D(filters=64, kernel_size=(3,3), activation='relu', padding='same')\n",
        "model.add(conv2)\n",
        "pool2 =  MaxPooling2D(pool_size=(2,2))\n",
        "model.add(pool2)\n",
        "model.add(Flatten())\n",
        "model.add(Dense(128, activation='relu'))\n",
        "model.add(Dense(num_classes, activation='softmax'))\n",
        "model.compile(optimizer='adam', loss='categorical_crossentropy', metrics=['accuracy'])"
      ],
      "execution_count": null,
      "outputs": []
    },
    {
      "cell_type": "code",
      "metadata": {
        "id": "Ah2V-aXnMzL2",
        "colab": {
          "base_uri": "https://localhost:8080/",
          "height": 604
        },
        "outputId": "1cabd131-4933-4b47-f880-dd7c85058cf1"
      },
      "source": [
        "model.fit(x=X_train,y=train_labels_cat,batch_size=64,epochs=16)"
      ],
      "execution_count": null,
      "outputs": [
        {
          "output_type": "stream",
          "text": [
            "Epoch 1/16\n",
            "938/938 [==============================] - 68s 73ms/step - loss: 0.5784 - accuracy: 0.9240\n",
            "Epoch 2/16\n",
            "938/938 [==============================] - 68s 73ms/step - loss: 0.0754 - accuracy: 0.9771\n",
            "Epoch 3/16\n",
            "938/938 [==============================] - 68s 72ms/step - loss: 0.0544 - accuracy: 0.9829\n",
            "Epoch 4/16\n",
            "938/938 [==============================] - 68s 72ms/step - loss: 0.0428 - accuracy: 0.9864\n",
            "Epoch 5/16\n",
            "938/938 [==============================] - 68s 72ms/step - loss: 0.0378 - accuracy: 0.9877\n",
            "Epoch 6/16\n",
            "938/938 [==============================] - 68s 72ms/step - loss: 0.0361 - accuracy: 0.9884\n",
            "Epoch 7/16\n",
            "938/938 [==============================] - 68s 72ms/step - loss: 0.0300 - accuracy: 0.9905\n",
            "Epoch 8/16\n",
            "938/938 [==============================] - 68s 72ms/step - loss: 0.0304 - accuracy: 0.9901\n",
            "Epoch 9/16\n",
            "938/938 [==============================] - 68s 72ms/step - loss: 0.0240 - accuracy: 0.9922\n",
            "Epoch 10/16\n",
            "938/938 [==============================] - 68s 72ms/step - loss: 0.0261 - accuracy: 0.9920\n",
            "Epoch 11/16\n",
            "938/938 [==============================] - 67s 72ms/step - loss: 0.0235 - accuracy: 0.9929\n",
            "Epoch 12/16\n",
            "938/938 [==============================] - 68s 72ms/step - loss: 0.0193 - accuracy: 0.9939\n",
            "Epoch 13/16\n",
            "938/938 [==============================] - 68s 72ms/step - loss: 0.0189 - accuracy: 0.9942\n",
            "Epoch 14/16\n",
            "938/938 [==============================] - 67s 72ms/step - loss: 0.0214 - accuracy: 0.9936\n",
            "Epoch 15/16\n",
            "938/938 [==============================] - 67s 71ms/step - loss: 0.0177 - accuracy: 0.9948\n",
            "Epoch 16/16\n",
            "938/938 [==============================] - 67s 72ms/step - loss: 0.0193 - accuracy: 0.9943\n"
          ],
          "name": "stdout"
        },
        {
          "output_type": "execute_result",
          "data": {
            "text/plain": [
              "<tensorflow.python.keras.callbacks.History at 0x7eff0834b208>"
            ]
          },
          "metadata": {
            "tags": []
          },
          "execution_count": 66
        }
      ]
    },
    {
      "cell_type": "code",
      "metadata": {
        "id": "PWLJiSRYNmEk",
        "colab": {
          "base_uri": "https://localhost:8080/",
          "height": 52
        },
        "outputId": "460d5045-5d5e-4f3f-ccb1-50cc7816f4e8"
      },
      "source": [
        "test_loss, test_accuracy = \\\n",
        "  model.evaluate(X_test, test_labels_cat, batch_size=64)\n",
        "print('Test loss: %.4f accuracy: %.4f' % (test_loss, test_accuracy))"
      ],
      "execution_count": null,
      "outputs": [
        {
          "output_type": "stream",
          "text": [
            "157/157 [==============================] - 3s 20ms/step - loss: 0.0469 - accuracy: 0.9908\n",
            "Test loss: 0.0469 accuracy: 0.9908\n"
          ],
          "name": "stdout"
        }
      ]
    },
    {
      "cell_type": "code",
      "metadata": {
        "id": "7WkapJ9HR7W6"
      },
      "source": [
        "predictions = model.predict(X_test)"
      ],
      "execution_count": null,
      "outputs": []
    },
    {
      "cell_type": "code",
      "metadata": {
        "id": "IQptRuZeSN3S"
      },
      "source": [
        "first20_preds = np.argmax(predictions, axis=1)[:25]\n",
        "first20_true = np.argmax(test_labels_cat,axis=1)[:25]"
      ],
      "execution_count": null,
      "outputs": []
    },
    {
      "cell_type": "code",
      "metadata": {
        "id": "jPNw-7-FS71r",
        "colab": {
          "base_uri": "https://localhost:8080/",
          "height": 52
        },
        "outputId": "6071071f-87cb-4656-86de-3c5edbcfaba5"
      },
      "source": [
        "first20_preds"
      ],
      "execution_count": null,
      "outputs": [
        {
          "output_type": "execute_result",
          "data": {
            "text/plain": [
              "array([7, 2, 1, 0, 4, 1, 4, 9, 5, 9, 0, 6, 9, 0, 1, 5, 9, 7, 3, 4, 9, 6,\n",
              "       6, 5, 4])"
            ]
          },
          "metadata": {
            "tags": []
          },
          "execution_count": 74
        }
      ]
    },
    {
      "cell_type": "code",
      "metadata": {
        "id": "nZrTQJKCS-is",
        "colab": {
          "base_uri": "https://localhost:8080/",
          "height": 52
        },
        "outputId": "1864dc7e-251d-4ff7-bb52-090efcd23794"
      },
      "source": [
        "first20_true"
      ],
      "execution_count": null,
      "outputs": [
        {
          "output_type": "execute_result",
          "data": {
            "text/plain": [
              "array([7, 2, 1, 0, 4, 1, 4, 9, 5, 9, 0, 6, 9, 0, 1, 5, 9, 7, 3, 4, 9, 6,\n",
              "       6, 5, 4])"
            ]
          },
          "metadata": {
            "tags": []
          },
          "execution_count": 75
        }
      ]
    },
    {
      "cell_type": "code",
      "metadata": {
        "id": "sszl0My0TNlN"
      },
      "source": [
        "kr_test_pred = np.argmax(predictions, axis=1)"
      ],
      "execution_count": null,
      "outputs": []
    },
    {
      "cell_type": "code",
      "metadata": {
        "id": "1Z-7c811S_21",
        "colab": {
          "base_uri": "https://localhost:8080/",
          "height": 35
        },
        "outputId": "8226a119-c6b8-44d1-fcb8-f75bf6df9671"
      },
      "source": [
        "(np.argmax(predictions, axis=1) != np.argmax(test_labels_cat,axis=1)).sum()"
      ],
      "execution_count": null,
      "outputs": [
        {
          "output_type": "execute_result",
          "data": {
            "text/plain": [
              "92"
            ]
          },
          "metadata": {
            "tags": []
          },
          "execution_count": 83
        }
      ]
    },
    {
      "cell_type": "code",
      "metadata": {
        "id": "WgdHLgnhTqSq"
      },
      "source": [
        ""
      ],
      "execution_count": null,
      "outputs": []
    }
  ]
}